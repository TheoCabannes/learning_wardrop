{
 "cells": [
  {
   "cell_type": "markdown",
   "metadata": {},
   "source": [
    "# The network class"
   ]
  },
  {
   "cell_type": "code",
   "execution_count": 1,
   "metadata": {},
   "outputs": [],
   "source": [
    "import numpy as np"
   ]
  },
  {
   "cell_type": "code",
   "execution_count": 2,
   "metadata": {},
   "outputs": [],
   "source": [
    "class network:\n",
    "    def __init__(self, network_name, nb_veh):\n",
    "        \"\"\"\n",
    "        load the network which correspond to the network_name\n",
    "        define the nb_veh as the nb_veh\n",
    "        \"\"\"\n",
    "        if network_name == \"Braess\":\n",
    "            self.__graph = np.array([[0, 0, 1, 1, 0.1, 0, 0, 0],\n",
    "                              [1, 0, 2, 2, 0, 0, 0, 0],\n",
    "                              [2, 1, 2, 0.25, 0, 0, 0, 0],\n",
    "                              [3, 1, 3, 2, 0, 0, 0, 0],\n",
    "                              [4, 2, 3, 1, 0.1, 0, 0, 0]])\n",
    "            self.__delta = np.array([[1,0,1,0,1],\n",
    "                                     [1,0,0,1,0],\n",
    "                                     [0,1,0,0,1]])\n",
    "            self.__flow_per_veh = 10 / nb_veh\n",
    "            \n",
    "            \"\"\"\n",
    "            from nb_veh and the intern demand define the number of flow that each veh represent\n",
    "            also define __nb_paths to give it to the Env\n",
    "            \"\"\"\n",
    "            \n",
    "        else:\n",
    "            raise Exception(\"The network name is not known! The only options are: \\'Braess\\'. This error was raise in the instancation of the class network\")\n",
    "    \n",
    "    def __travel_time(self, f):\n",
    "        f = f * self.__flow_per_veh\n",
    "        g = self.__graph\n",
    "        return g[:,3] + g[:,4]*f + g[:,5]*(f**2) + g[:,6]*(f**3) + g[:,7]*(f**4)\n",
    "    \n",
    "    def __marginal_cost(self, f):\n",
    "        g = self.__graph\n",
    "        return g[:,4] + 2*g[:,5]*f + 3*g[:,6]*(f**2) + 4*g[:,7]*(f**3)\n",
    "    \n",
    "    @property\n",
    "    def nb_paths(self):\n",
    "        return self.__delta.shape[0]\n",
    "    \n",
    "    def update_flow_from_dict(self, paths_flow_dict):\n",
    "        self.__path_flow = np.zeros(self.__delta.shape[0])\n",
    "        for p in paths_flow_dict.keys():\n",
    "            assert type(p) == int and p > -1 and p < self.nb_paths\n",
    "            self.__path_flow[p] = paths_flow_dict[p]\n",
    "        self.__update_travel_time_and_marginal_cost()\n",
    "        \n",
    "    def __update_travel_time_and_marginal_cost(self):\n",
    "        f = self.__delta.T @ self.__path_flow\n",
    "        tt_f = self.__travel_time(f)\n",
    "        mc_f = self.__marginal_cost(f)\n",
    "        self.__path_travel_time = self.__delta @ tt_f\n",
    "        \n",
    "    def travel_time(self, p):\n",
    "        assert type(p) == int and p > -1 and p < self.nb_paths\n",
    "        return self.__path_travel_time[p]\n",
    "\n",
    "    # marginal_cost = d[t(x_e)]/d[x_e]\n",
    "    def marginal_cost(self, p):\n",
    "        assert type(p) == int and p > -1 and p < self.nb_paths\n",
    "        return self.__marginal_cost[p]"
   ]
  },
  {
   "cell_type": "code",
   "execution_count": null,
   "metadata": {},
   "outputs": [],
   "source": []
  }
 ],
 "metadata": {
  "kernelspec": {
   "display_name": "Python 3",
   "language": "python",
   "name": "python3"
  },
  "language_info": {
   "codemirror_mode": {
    "name": "ipython",
    "version": 3
   },
   "file_extension": ".py",
   "mimetype": "text/x-python",
   "name": "python",
   "nbconvert_exporter": "python",
   "pygments_lexer": "ipython3",
   "version": "3.6.7"
  },
  "widgets": {
   "state": {},
   "version": "1.1.2"
  }
 },
 "nbformat": 4,
 "nbformat_minor": 2
}
