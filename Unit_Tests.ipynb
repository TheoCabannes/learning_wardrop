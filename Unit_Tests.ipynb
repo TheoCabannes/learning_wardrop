{
 "cells": [
  {
   "cell_type": "code",
   "execution_count": 17,
   "metadata": {},
   "outputs": [
    {
     "ename": "ImportError",
     "evalue": "No module named 'learning_wardrop'",
     "output_type": "error",
     "traceback": [
      "\u001b[0;31m---------------------------------------------------------------------------\u001b[0m",
      "\u001b[0;31mImportError\u001b[0m                               Traceback (most recent call last)",
      "\u001b[0;32m<ipython-input-17-e913e20ebbe5>\u001b[0m in \u001b[0;36m<module>\u001b[0;34m()\u001b[0m\n\u001b[1;32m      4\u001b[0m \u001b[0;32mimport\u001b[0m \u001b[0mnumpy\u001b[0m \u001b[0;32mas\u001b[0m \u001b[0mnp\u001b[0m\u001b[0;34m\u001b[0m\u001b[0m\n\u001b[1;32m      5\u001b[0m \u001b[0;34m\u001b[0m\u001b[0m\n\u001b[0;32m----> 6\u001b[0;31m \u001b[0;32mfrom\u001b[0m \u001b[0mlearning_wardrop\u001b[0m \u001b[0;32mimport\u001b[0m \u001b[0mRoutingEnv\u001b[0m\u001b[0;34m\u001b[0m\u001b[0m\n\u001b[0m\u001b[1;32m      7\u001b[0m \u001b[0;34m\u001b[0m\u001b[0m\n\u001b[1;32m      8\u001b[0m \u001b[0;32mimport\u001b[0m \u001b[0mos\u001b[0m\u001b[0;34m\u001b[0m\u001b[0m\n",
      "\u001b[0;31mImportError\u001b[0m: No module named 'learning_wardrop'"
     ]
    }
   ],
   "source": [
    "## Unit Tests\n",
    "\n",
    "import unittest\n",
    "import numpy as np\n",
    "\n",
    "from learning_wardrop import RoutingEnv\n",
    "\n",
    "import os\n",
    "os.environ[\"TEST_FLAG\"] = 'True'"
   ]
  },
  {
   "cell_type": "code",
   "execution_count": 11,
   "metadata": {},
   "outputs": [],
   "source": [
    "class TestSetUp(unittest.TestCase):\n",
    "    def setUp(self):\n",
    "        self.configs = {\n",
    "            'network': 'Braess',\n",
    "            'num_veh': 2,\n",
    "            'num_paths': 2,\n",
    "            'soc_fac': 0.5\n",
    "        }\n",
    "        try:\n",
    "            self.env = RoutingEnv(self.configs)\n",
    "        except Exception as e:\n",
    "            self.fail()\n",
    "        \n",
    "    def test_correct_initial_obs(self):\n",
    "        \"\"\"\n",
    "        This test tests if our initial observation is correct.\n",
    "        Initial Observations should be: \n",
    "            Agent 1: [<random_path=0>, <time=0>]\n",
    "            Agent 2: [<random_path=0>, <time=0>]\n",
    "        \n",
    "        The random paths may be the same for all of the agents.\n",
    "        \"\"\"\n",
    "        try:\n",
    "            init_obs = self.env.reset()\n",
    "        except:\n",
    "            self.fail()\n",
    "        path_options = np.arange(self.configs['num_paths'])\n",
    "        \n",
    "        # The initial observation should be a dictionary of vectors\n",
    "        correct_obs = {\n",
    "            'car_0': np.array([1, 0, 0]),   # The One-Hot Encoding of 0 = [1, 0]\n",
    "            'car_1': np.array([1, 0, 0])       # The One-Hot Encoding of 0 = [1, 0]\n",
    "        }\n",
    "        for expected, actual in zip(correct_obs.values(), init_obs.values()):\n",
    "            np.testing.assert_array_equal(actual, expected)\n",
    "\n",
    "    def test_step_steps_correct(self):\n",
    "        \"\"\"\n",
    "        This is nowhere near complete. In order to assess the correct obs and reward, \n",
    "        the network class has to be implemented. Update this test once it's finished.\n",
    "        \n",
    "        It is important to test that the dictionaries all pass the same correct keys. \n",
    "        These keys are used to match actions and observations to the correct agents. \n",
    "        \"\"\"\n",
    "        # Restart env\n",
    "        self.env.reset()\n",
    "        \n",
    "        # Create chosen actions for agents\n",
    "        actions = {\n",
    "            'car_0': 0,   # Car 0 chooses path 0 \n",
    "            'car_1': 1,   # Car 1 chooses path 1\n",
    "        }\n",
    "        obs, rewards, dones, infos = self.env.step(actions)\n",
    "        # Test that all of the dictionaries have the correct keys\n",
    "        for expected, obs_key, rew_key, dones_key, infos_key in zip(['car_0', 'car_1'], \n",
    "                                                                    obs.keys(), \n",
    "                                                                    rewards.keys(), \n",
    "                                                                    dones.keys(),\n",
    "                                                                    infos.keys()):\n",
    "            self.assertEqual(expected, obs_key)\n",
    "            self.assertEqual(expected, rew_key)\n",
    "            if dones_key != '__all__':\n",
    "                self.assertEqual(expected, dones_key)\n",
    "            self.assertEqual(expected, infos_key)\n",
    "        \n",
    "        # Note: \"Time = Path Choice\" here\n",
    "        correct_obs = [np.array([1, 0, 0]),      # Path 0 is represented by the first 2 nums. The One-Hot Encoding of 0 = [1, 0]\n",
    "                       np.array([0, 1, 1])       # Path 1 is represented by the first 2 nums. The One-Hot Encoding of 1 = [0, 1]\n",
    "                      ]\n",
    "        # Test the observations values\n",
    "        for expected, actual in zip(correct_obs, obs.values()):\n",
    "            np.testing.assert_array_equal(actual, expected)\n",
    "\n",
    "        # Rewards are expected to be -path_time\n",
    "        correct_rewards = [0, -1]\n",
    "        # Test the rewards\n",
    "        for expected, actual in zip(correct_rewards, rewards.values()):\n",
    "            self.assertEqual(actual, expected)\n",
    "\n",
    "        # Test that everyone is signaled as done\n",
    "        self.assertTrue(dones['__all__'])\n",
    "            \n",
    "    def tearDown(self):\n",
    "        return \n"
   ]
  },
  {
   "cell_type": "code",
   "execution_count": 12,
   "metadata": {},
   "outputs": [
    {
     "name": "stderr",
     "output_type": "stream",
     "text": [
      ".."
     ]
    },
    {
     "name": "stdout",
     "output_type": "stream",
     "text": [
      "[(0, <ray.rllib.models.preprocessors.OneHotPreprocessor object at 0x1c333dfda0>), (0, <ray.rllib.models.preprocessors.NoPreprocessor object at 0x1c333dfba8>)]\n",
      "[(0, <ray.rllib.models.preprocessors.OneHotPreprocessor object at 0x1c333dfda0>), (0, <ray.rllib.models.preprocessors.NoPreprocessor object at 0x1c333dfba8>)]\n",
      "[(0, <ray.rllib.models.preprocessors.OneHotPreprocessor object at 0x1c333dfd68>), (0, <ray.rllib.models.preprocessors.NoPreprocessor object at 0x1c333dfa90>)]\n",
      "[(0, <ray.rllib.models.preprocessors.OneHotPreprocessor object at 0x1c333dfd68>), (0, <ray.rllib.models.preprocessors.NoPreprocessor object at 0x1c333dfa90>)]\n",
      "[(0, <ray.rllib.models.preprocessors.OneHotPreprocessor object at 0x1c333dfd68>), (0, <ray.rllib.models.preprocessors.NoPreprocessor object at 0x1c333dfa90>)]\n",
      "[(1, <ray.rllib.models.preprocessors.OneHotPreprocessor object at 0x1c333dfd68>), (1, <ray.rllib.models.preprocessors.NoPreprocessor object at 0x1c333dfa90>)]\n"
     ]
    },
    {
     "name": "stderr",
     "output_type": "stream",
     "text": [
      "\n",
      "----------------------------------------------------------------------\n",
      "Ran 2 tests in 0.005s\n",
      "\n",
      "OK\n"
     ]
    }
   ],
   "source": [
    "if __name__ == '__main__':\n",
    "    unittest.main(argv=['first-arg-is-ignored'], exit=False)"
   ]
  },
  {
   "cell_type": "code",
   "execution_count": null,
   "metadata": {},
   "outputs": [],
   "source": []
  },
  {
   "cell_type": "code",
   "execution_count": null,
   "metadata": {},
   "outputs": [],
   "source": []
  },
  {
   "cell_type": "code",
   "execution_count": null,
   "metadata": {},
   "outputs": [],
   "source": []
  },
  {
   "cell_type": "code",
   "execution_count": null,
   "metadata": {},
   "outputs": [],
   "source": []
  }
 ],
 "metadata": {
  "kernelspec": {
   "display_name": "Python 3",
   "language": "python",
   "name": "python3"
  },
  "language_info": {
   "codemirror_mode": {
    "name": "ipython",
    "version": 3
   },
   "file_extension": ".py",
   "mimetype": "text/x-python",
   "name": "python",
   "nbconvert_exporter": "python",
   "pygments_lexer": "ipython3",
   "version": "3.5.2"
  },
  "widgets": {
   "state": {},
   "version": "1.1.2"
  }
 },
 "nbformat": 4,
 "nbformat_minor": 2
}
