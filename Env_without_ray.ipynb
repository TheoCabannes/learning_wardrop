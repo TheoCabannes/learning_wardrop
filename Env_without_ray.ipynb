{
 "cells": [
  {
   "cell_type": "markdown",
   "metadata": {},
   "source": [
    "## Coding the learning without Ray using really simple functions\n",
    "\n",
    "The idea is simple:\n",
    "Every vehicles see what are the best paths of the network for the last iteration. And they choice the best path with a given probability."
   ]
  },
  {
   "cell_type": "code",
   "execution_count": 6,
   "metadata": {},
   "outputs": [],
   "source": [
    "import numpy as np"
   ]
  },
  {
   "cell_type": "code",
   "execution_count": 7,
   "metadata": {},
   "outputs": [],
   "source": [
    "class autonomous_vehicle:\n",
    "    # p = 0.5\n",
    "    def __init__(self, name):\n",
    "        self.name = name\n",
    "        self.path = path\n",
    "    \n",
    "    def path_choice(self, path, ):\n",
    "        # the following condition makes the system converges toward Nash\n",
    "        # change this condition to make an faster convergence toward Nash\n",
    "        p = abs(self.path.get_travel_time() - path.get_travel_time()) / self.path.get_travel_time()\n",
    "        self.path = (path if np.random.rand() < p else self.path)\n"
   ]
  },
  {
   "cell_type": "code",
   "execution_count": 8,
   "metadata": {},
   "outputs": [],
   "source": [
    "import Networks\n",
    "\n",
    "network_name = 'Braess'\n",
    "nb_veh = 4\n",
    "soc_fac = 0\n",
    "network = Networks.network(network_name, nb_veh)\n",
    "nb_paths = network.nb_paths\n",
    "\n",
    "def reward_calculator(soc_fac):\n",
    "    rew_array = np.zeros(nb_paths)\n",
    "    for p in range(nb_paths):\n",
    "        rew_array[p] = - (network.travel_time(p) + soc_fac * network.marginal_cost(p))\n",
    "    return rew_array"
   ]
  },
  {
   "cell_type": "code",
   "execution_count": 5,
   "metadata": {},
   "outputs": [
    {
     "name": "stdout",
     "output_type": "stream",
     "text": [
      "{0: 4}\n"
     ]
    }
   ],
   "source": [
    "\n",
    "# Apply the actions of every agent at the same time\n",
    "paths_flow_dict = {}\n",
    "cars_dict = {}\n",
    "\n",
    "for i in range(nb_veh):\n",
    "    cars_dict['car_' + str(i)] = autonomous_vehicle('car_' + str(i), 0)\n",
    "\n",
    "nb_iter = 100\n",
    "\n",
    "for i in range(iter):\n",
    "    for agent, rl_action in action_dict.items():\n",
    "        if rl_action in paths_flow_dict:\n",
    "            paths_flow_dict[rl_action] += 1\n",
    "        else:\n",
    "            paths_flow_dict[rl_action] = 1\n",
    "\n",
    "    print(paths_flow_dict)\n",
    "    # update the path travel times of the network given the path flows\n",
    "    network.update_flow_from_dict(paths_flow_dict)\n",
    "\n",
    "    # Calculate states, reward, and done for each agent\n",
    "    travel_time = {}\n",
    "    marginal_cost = {}\n",
    "\n",
    "    for path in range(nb_paths):\n",
    "        travel_time[agent] = network.travel_time(path_choice)\n",
    "        # network marginal cost ( path ) return the marginal cost of the path\n",
    "        marginal_cost[agent] = network.marginal_cost(path_choice)\n",
    "\n",
    "    rew_array = reward_calculator(soc_fac)\n",
    "    best_path = np.argmin(rew_array)\n",
    "    # TO DO update the action_dict based on the "
   ]
  },
  {
   "cell_type": "code",
   "execution_count": null,
   "metadata": {},
   "outputs": [],
   "source": []
  }
 ],
 "metadata": {
  "kernelspec": {
   "display_name": "Python 3",
   "language": "python",
   "name": "python3"
  },
  "language_info": {
   "codemirror_mode": {
    "name": "ipython",
    "version": 3
   },
   "file_extension": ".py",
   "mimetype": "text/x-python",
   "name": "python",
   "nbconvert_exporter": "python",
   "pygments_lexer": "ipython3",
   "version": "3.6.6"
  }
 },
 "nbformat": 4,
 "nbformat_minor": 2
}
