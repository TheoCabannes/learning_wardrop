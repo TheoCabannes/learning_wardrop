{
 "cells": [
  {
   "cell_type": "markdown",
   "metadata": {},
   "source": [
    "## Coding the learning without Ray using really simple functions\n",
    "\n",
    "The idea is simple:\n",
    "Every vehicles see what are the best paths of the network for the last iteration. And they choice the best path with a given probability."
   ]
  },
  {
   "cell_type": "code",
   "execution_count": 1,
   "metadata": {},
   "outputs": [],
   "source": [
    "import numpy as np\n",
    "import Networks"
   ]
  },
  {
   "cell_type": "code",
   "execution_count": 2,
   "metadata": {},
   "outputs": [],
   "source": [
    "class autonomous_vehicle:\n",
    "    # p = 0.5\n",
    "    def __init__(self, path):\n",
    "        self.__path = path\n",
    "    \n",
    "    def path_choice(self, path, network, soc_fac):\n",
    "        # the following condition makes the system converges toward Nash\n",
    "        # change this condition to make an faster convergence toward Nash\n",
    "        cost_self = network.travel_time(int(self.__path)) + soc_fac * network.marginal_cost(int(self.__path))\n",
    "        cost_path = network.travel_time(int(path)) + soc_fac * network.marginal_cost(int(path))\n",
    "        p = abs(cost_self - cost_path) /cost_self\n",
    "        self.__path = (path if np.random.rand() < p else self.__path)\n",
    "    def get_path_choice(self):\n",
    "        return self.__path"
   ]
  },
  {
   "cell_type": "code",
   "execution_count": 3,
   "metadata": {},
   "outputs": [
    {
     "name": "stdout",
     "output_type": "stream",
     "text": [
      "{0: 4}\n",
      "1\n",
      "{0: 3, 1: 1}\n",
      "2\n",
      "{0: 2, 2: 2}\n",
      "1\n",
      "{0: 2, 2: 1, 1: 1}\n",
      "1\n",
      "{0: 2, 2: 1, 1: 1}\n",
      "1\n",
      "{0: 2, 2: 1, 1: 1}\n",
      "1\n",
      "{0: 2, 2: 1, 1: 1}\n",
      "1\n",
      "{0: 1, 2: 1, 1: 2}\n",
      "2\n",
      "{0: 1, 2: 2, 1: 1}\n",
      "1\n",
      "{0: 1, 2: 2, 1: 1}\n",
      "1\n",
      "{1: 3, 2: 1}\n",
      "2\n",
      "{1: 2, 2: 2}\n",
      "1\n",
      "{1: 2, 2: 2}\n",
      "1\n",
      "{1: 2, 2: 2}\n",
      "1\n",
      "{1: 2, 2: 2}\n",
      "1\n",
      "{1: 2, 2: 2}\n",
      "1\n",
      "{1: 2, 2: 2}\n",
      "1\n",
      "{1: 2, 2: 2}\n",
      "1\n",
      "{1: 2, 2: 2}\n",
      "1\n",
      "{1: 2, 2: 2}\n",
      "1\n"
     ]
    }
   ],
   "source": [
    "network_name = 'Braess'\n",
    "nb_veh = 4\n",
    "soc_fac = 1 # to be changed\n",
    "network = Networks.network(network_name, nb_veh)\n",
    "nb_paths = network.nb_paths\n",
    "\n",
    "def reward_calculator(soc_fac):\n",
    "    rew_array = np.zeros(nb_paths)\n",
    "    for p in range(nb_paths):\n",
    "        rew_array[p] = - (network.travel_time(p) + soc_fac * network.marginal_cost(p))\n",
    "    return rew_array\n",
    "# Apply the actions of every agent at the same time\n",
    "\n",
    "cars_dict = {}\n",
    "\n",
    "for i in range(nb_veh):\n",
    "    cars_dict['car_' + str(i)] = autonomous_vehicle(0)\n",
    "\n",
    "nb_iter = 20\n",
    "\n",
    "for i in range(nb_iter):\n",
    "    paths_flow_dict = {}\n",
    "    for name_car, cars_veh in cars_dict.items():\n",
    "        rl_action = cars_veh.get_path_choice()\n",
    "        if rl_action in paths_flow_dict:\n",
    "            paths_flow_dict[int(rl_action)] += 1\n",
    "        else:\n",
    "            paths_flow_dict[int(rl_action)] = 1\n",
    "\n",
    "    print(paths_flow_dict)\n",
    "    # update the path travel times of the network given the path flows\n",
    "    network.update_flow_from_dict(paths_flow_dict)\n",
    "\n",
    "    # Calculate states, reward, and done for each agent\n",
    "    travel_time = {}\n",
    "    marginal_cost = {}\n",
    "\n",
    "    for path in range(nb_paths):\n",
    "        travel_time[path] = network.travel_time(path)\n",
    "        # network marginal cost ( path ) return the marginal cost of the path\n",
    "        marginal_cost[path] = network.marginal_cost(path)\n",
    "\n",
    "    rew_array = reward_calculator(soc_fac)\n",
    "    best_path = np.argmax(rew_array)\n",
    "    for name_car, cars_veh in cars_dict.items():\n",
    "        cars_veh.path_choice(best_path, network, soc_fac)\n",
    "    # TO DO update the action_dict based on the "
   ]
  },
  {
   "cell_type": "code",
   "execution_count": null,
   "metadata": {},
   "outputs": [],
   "source": []
  }
 ],
 "metadata": {
  "kernelspec": {
   "display_name": "Python 3",
   "language": "python",
   "name": "python3"
  },
  "language_info": {
   "codemirror_mode": {
    "name": "ipython",
    "version": 3
   },
   "file_extension": ".py",
   "mimetype": "text/x-python",
   "name": "python",
   "nbconvert_exporter": "python",
   "pygments_lexer": "ipython3",
   "version": "3.6.6"
  }
 },
 "nbformat": 4,
 "nbformat_minor": 2
}
