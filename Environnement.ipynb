{
 "cells": [
  {
   "cell_type": "code",
   "execution_count": 1,
   "metadata": {},
   "outputs": [],
   "source": [
    "import numpy as np"
   ]
  },
  {
   "cell_type": "code",
   "execution_count": 2,
   "metadata": {},
   "outputs": [],
   "source": [
    "class link:\n",
    "    def __init__(self, name, a0, a1):\n",
    "        self.name = name\n",
    "        self.travel_time = 0 # the travel time of the link\n",
    "        self._flow = 0 # the flow on the link\n",
    "        self._paths = [] # the paths using this link\n",
    "        self._a0 = a0\n",
    "        self._a1 = a1\n",
    "        \n",
    "    def add_path(self, path):\n",
    "        self._paths.append(path)\n",
    "    \n",
    "    def update_flow(self):\n",
    "        self._flow = 0\n",
    "        for path in self._paths:\n",
    "            self._flow += path.flow\n",
    "    \n",
    "    def update_travel_time(self):\n",
    "        self.update_flow()\n",
    "        self.travel_time = self._a0 + self._a1 * self._flow\n",
    "        \n",
    "    def __str__(self):\n",
    "        return self.name"
   ]
  },
  {
   "cell_type": "code",
   "execution_count": 3,
   "metadata": {},
   "outputs": [],
   "source": [
    "class path:\n",
    "    def __init__(self, name, links):\n",
    "        self.name = name\n",
    "        self._travel_time = 0 # the travel time of the paths\n",
    "        self.flow = 0 # the flow on the paths\n",
    "        self._links = links # the paths using this link\n",
    "        for link in links:\n",
    "            link.add_path(self)\n",
    "    \n",
    "    # add the marginal cost to see if you converge to the social optimum\n",
    "    def get_travel_time(self):\n",
    "        return self._travel_time\n",
    "    \n",
    "    def update_travel_time(self):\n",
    "        self._travel_time = 0\n",
    "        for link in self._links:\n",
    "            self._travel_time += link.travel_time\n",
    "            \n",
    "    def __str__(self):\n",
    "        return self.name"
   ]
  },
  {
   "cell_type": "code",
   "execution_count": 4,
   "metadata": {},
   "outputs": [],
   "source": [
    "class network:\n",
    "    def __init__(self, paths, links):\n",
    "        self.paths = paths\n",
    "        self.links = links\n",
    "    \n",
    "    def update(self):\n",
    "        for link in self.links:\n",
    "            link.update_travel_time()\n",
    "        for path in self.paths:\n",
    "            path.update_travel_time()\n",
    "            \n",
    "    def update_av(self, avs):\n",
    "        for path in self.paths:\n",
    "            path.flow = 0\n",
    "        for av in avs:\n",
    "            av.path.flow += av.flow\n",
    "        self.update()\n",
    "        for av in avs:\n",
    "            av.give_reward()"
   ]
  },
  {
   "cell_type": "code",
   "execution_count": 5,
   "metadata": {},
   "outputs": [],
   "source": [
    "ab = link('ab', 1, 1/100)\n",
    "ac = link('ac', 2, 0)\n",
    "bc = link('bc', 0.25, 0)\n",
    "bd = link('bd', 2, 0)\n",
    "cd = link('cd', 1, 1/100)"
   ]
  },
  {
   "cell_type": "code",
   "execution_count": 6,
   "metadata": {},
   "outputs": [],
   "source": [
    "abcd = path('abcd', [ab, bc, cd])\n",
    "abd = path('abd', [ab, bd])\n",
    "acd = path('acd', [ac, cd])"
   ]
  },
  {
   "cell_type": "code",
   "execution_count": 7,
   "metadata": {},
   "outputs": [],
   "source": [
    "braess = network([abd, acd, abcd], [ab, ac, bc, bd, cd])"
   ]
  },
  {
   "cell_type": "code",
   "execution_count": 8,
   "metadata": {},
   "outputs": [],
   "source": [
    "braess.update()"
   ]
  },
  {
   "cell_type": "code",
   "execution_count": 9,
   "metadata": {},
   "outputs": [
    {
     "name": "stdout",
     "output_type": "stream",
     "text": [
      "[3.75, 3.75, 3.75]\n"
     ]
    }
   ],
   "source": [
    "#Nash equilibrium\n",
    "abcd.flow = 50\n",
    "abd.flow = 25\n",
    "acd.flow = 25\n",
    "braess.update()\n",
    "print([path.get_travel_time() for path in braess.paths])"
   ]
  },
  {
   "cell_type": "code",
   "execution_count": 10,
   "metadata": {},
   "outputs": [
    {
     "name": "stdout",
     "output_type": "stream",
     "text": [
      "[3.5, 3.5, 3.25]\n"
     ]
    }
   ],
   "source": [
    "#social optimum\n",
    "abcd.flow = 0\n",
    "abd.flow = 50\n",
    "acd.flow = 50\n",
    "braess.update()\n",
    "print([path.get_travel_time() for path in braess.paths])"
   ]
  },
  {
   "cell_type": "code",
   "execution_count": 11,
   "metadata": {},
   "outputs": [],
   "source": [
    "class autonomous_vehicle:\n",
    "    # p = 0.5\n",
    "    def __init__(self, name, flow):\n",
    "        self.name = name\n",
    "        self.path = None\n",
    "        self.reward = 0\n",
    "        self.flow = flow\n",
    "    \n",
    "    def path_choice(self, path):\n",
    "        if self.path == None:\n",
    "            self.path = path\n",
    "        # the following condition makes the system converges toward Nash\n",
    "        # change this condition to make an faster convergence toward Nash\n",
    "        p = abs(self.path.get_travel_time() - path.get_travel_time()) / self.path.get_travel_time()\n",
    "        self.path = (path if np.random.rand() < p else self.path)\n",
    "    \n",
    "    def give_reward(self):\n",
    "        # add here a NN which choose the path given the reward\n",
    "        self.reward = - self.path.get_travel_time()"
   ]
  },
  {
   "cell_type": "code",
   "execution_count": 12,
   "metadata": {},
   "outputs": [],
   "source": [
    "av1 = autonomous_vehicle('1', 25)\n",
    "av2 = autonomous_vehicle('2', 25)\n",
    "av3 = autonomous_vehicle('3', 25)\n",
    "av4 = autonomous_vehicle('4', 25)\n",
    "\n",
    "avs = [av1, av2, av3, av4]"
   ]
  },
  {
   "cell_type": "code",
   "execution_count": 13,
   "metadata": {},
   "outputs": [],
   "source": [
    "for i in range(1000):\n",
    "    best_path = [x for _,x in sorted([(path.get_travel_time(),path) for path in braess.paths],  key=lambda tup: tup[0])][0]\n",
    "    #print([(str(path), path.flow, path.get_travel_time()) for path in braess.paths])\n",
    "    #print(av2.p)\n",
    "    for av in avs:\n",
    "        av.path_choice(best_path)\n",
    "\n",
    "    braess.update_av(avs)\n",
    "    "
   ]
  },
  {
   "cell_type": "code",
   "execution_count": 14,
   "metadata": {},
   "outputs": [
    {
     "name": "stdout",
     "output_type": "stream",
     "text": [
      "['acd', 'abcd', 'abd', 'abcd']\n",
      "[('abd', 25, 3.75), ('acd', 25, 3.75), ('abcd', 50, 3.75)]\n"
     ]
    }
   ],
   "source": [
    "print([str(av.path) for av in avs])\n",
    "print([(str(path), path.flow, path.get_travel_time()) for path in braess.paths])"
   ]
  },
  {
   "cell_type": "code",
   "execution_count": 15,
   "metadata": {},
   "outputs": [],
   "source": [
    "for av in avs:\n",
    "    av.path = acd\n",
    "braess.update_av(avs)"
   ]
  },
  {
   "cell_type": "code",
   "execution_count": null,
   "metadata": {},
   "outputs": [],
   "source": []
  }
 ],
 "metadata": {
  "kernelspec": {
   "display_name": "Python 3",
   "language": "python",
   "name": "python3"
  },
  "language_info": {
   "codemirror_mode": {
    "name": "ipython",
    "version": 3
   },
   "file_extension": ".py",
   "mimetype": "text/x-python",
   "name": "python",
   "nbconvert_exporter": "python",
   "pygments_lexer": "ipython3",
   "version": "3.5.2"
  },
  "widgets": {
   "state": {},
   "version": "1.1.2"
  }
 },
 "nbformat": 4,
 "nbformat_minor": 2
}
