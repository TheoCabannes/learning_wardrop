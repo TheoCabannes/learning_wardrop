{
 "cells": [
  {
   "cell_type": "code",
   "execution_count": 1,
   "metadata": {},
   "outputs": [],
   "source": [
    "class link:\n",
    "    def __init__(self, name, a0, a1):\n",
    "        self.name = name\n",
    "        self.travel_time = 0 # the travel time of the link\n",
    "        self._flow = 0 # the flow on the link\n",
    "        self._paths = [] # the paths using this link\n",
    "        self._a0 = a0\n",
    "        self._a1 = a1\n",
    "        \n",
    "    def add_path(self, path):\n",
    "        self._paths.append(path)\n",
    "    \n",
    "    def update_flow(self):\n",
    "        self._flow = 0\n",
    "        for path in self._paths:\n",
    "            self._flow += path.flow\n",
    "    \n",
    "    def update_travel_time(self):\n",
    "        self.update_flow()\n",
    "        self.travel_time = self._a0 + self._a1 * self._flow\n",
    "        \n",
    "    def __str__(self):\n",
    "        return self.name"
   ]
  },
  {
   "cell_type": "code",
   "execution_count": 18,
   "metadata": {},
   "outputs": [],
   "source": [
    "class path:\n",
    "    def __init__(self, name, links):\n",
    "        self.name = name\n",
    "        self._travel_time = 0 # the travel time of the paths\n",
    "        self.flow = 0 # the flow on the paths\n",
    "        self._links = links # the paths using this link\n",
    "        for link in links:\n",
    "            link.add_path(self)\n",
    "    \n",
    "    def get_travel_time(self):\n",
    "        return self._travel_time\n",
    "    \n",
    "    def update_travel_time(self):\n",
    "        self._travel_time = 0\n",
    "        for link in self._links:\n",
    "            self._travel_time += link.travel_time\n",
    "            \n",
    "    def __str__(self):\n",
    "        return self.name"
   ]
  },
  {
   "cell_type": "code",
   "execution_count": 19,
   "metadata": {},
   "outputs": [],
   "source": [
    "class network:\n",
    "    def __init__(self, paths, links):\n",
    "        self.paths = paths\n",
    "        self.links = links\n",
    "    \n",
    "    def update(self):\n",
    "        for link in self.links:\n",
    "            link.update_travel_time()\n",
    "        for path in self.paths:\n",
    "            path.update_travel_time()"
   ]
  },
  {
   "cell_type": "code",
   "execution_count": 20,
   "metadata": {},
   "outputs": [],
   "source": [
    "ab = link('ab', 1, 1/100)\n",
    "ac = link('ac', 2, 0)\n",
    "bc = link('bc', 0.25, 0)\n",
    "bd = link('bd', 2, 0)\n",
    "cd = link('cd', 1, 1/100)"
   ]
  },
  {
   "cell_type": "code",
   "execution_count": 21,
   "metadata": {},
   "outputs": [],
   "source": [
    "abcd = path('abcd', [ab, bc, cd])\n",
    "abd = path('abd', [ab, bd])\n",
    "acd = path('acd', [ac, cd])"
   ]
  },
  {
   "cell_type": "code",
   "execution_count": 22,
   "metadata": {},
   "outputs": [],
   "source": [
    "braess = network([abd, acd, abcd], [ab, ac, bc, bd, cd])"
   ]
  },
  {
   "cell_type": "code",
   "execution_count": 23,
   "metadata": {},
   "outputs": [],
   "source": [
    "braess.update()"
   ]
  },
  {
   "cell_type": "code",
   "execution_count": 24,
   "metadata": {},
   "outputs": [
    {
     "name": "stdout",
     "output_type": "stream",
     "text": [
      "[3.75, 3.75, 3.75]\n"
     ]
    }
   ],
   "source": [
    "#Nash equilibrium\n",
    "abcd.flow = 50\n",
    "abd.flow = 25\n",
    "acd.flow = 25\n",
    "braess.update()\n",
    "print([path.get_travel_time() for path in braess.paths])"
   ]
  },
  {
   "cell_type": "code",
   "execution_count": 25,
   "metadata": {},
   "outputs": [
    {
     "name": "stdout",
     "output_type": "stream",
     "text": [
      "[3.5, 3.5, 3.25]\n"
     ]
    }
   ],
   "source": [
    "#social optimum\n",
    "abcd.flow = 0\n",
    "abd.flow = 50\n",
    "acd.flow = 50\n",
    "braess.update()\n",
    "print([path.get_travel_time() for path in braess.paths])"
   ]
  }
 ],
 "metadata": {
  "kernelspec": {
   "display_name": "Python 3",
   "language": "python",
   "name": "python3"
  },
  "language_info": {
   "codemirror_mode": {
    "name": "ipython",
    "version": 3
   },
   "file_extension": ".py",
   "mimetype": "text/x-python",
   "name": "python",
   "nbconvert_exporter": "python",
   "pygments_lexer": "ipython3",
   "version": "3.5.2"
  },
  "widgets": {
   "state": {},
   "version": "1.1.2"
  }
 },
 "nbformat": 4,
 "nbformat_minor": 2
}
