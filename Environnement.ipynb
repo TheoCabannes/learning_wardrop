{
 "cells": [
  {
   "cell_type": "code",
   "execution_count": 27,
   "metadata": {},
   "outputs": [],
   "source": [
    "import numpy as np"
   ]
  },
  {
   "cell_type": "code",
   "execution_count": 1,
   "metadata": {},
   "outputs": [],
   "source": [
    "class link:\n",
    "    def __init__(self, name, a0, a1):\n",
    "        self.name = name\n",
    "        self.travel_time = 0 # the travel time of the link\n",
    "        self._flow = 0 # the flow on the link\n",
    "        self._paths = [] # the paths using this link\n",
    "        self._a0 = a0\n",
    "        self._a1 = a1\n",
    "        \n",
    "    def add_path(self, path):\n",
    "        self._paths.append(path)\n",
    "    \n",
    "    def update_flow(self):\n",
    "        self._flow = 0\n",
    "        for path in self._paths:\n",
    "            self._flow += path.flow\n",
    "    \n",
    "    def update_travel_time(self):\n",
    "        self.update_flow()\n",
    "        self.travel_time = self._a0 + self._a1 * self._flow\n",
    "        \n",
    "    def __str__(self):\n",
    "        return self.name"
   ]
  },
  {
   "cell_type": "code",
   "execution_count": 18,
   "metadata": {},
   "outputs": [],
   "source": [
    "class path:\n",
    "    def __init__(self, name, links):\n",
    "        self.name = name\n",
    "        self._travel_time = 0 # the travel time of the paths\n",
    "        self.flow = 0 # the flow on the paths\n",
    "        self._links = links # the paths using this link\n",
    "        for link in links:\n",
    "            link.add_path(self)\n",
    "    \n",
    "    def get_travel_time(self):\n",
    "        return self._travel_time\n",
    "    \n",
    "    def update_travel_time(self):\n",
    "        self._travel_time = 0\n",
    "        for link in self._links:\n",
    "            self._travel_time += link.travel_time\n",
    "            \n",
    "    def __str__(self):\n",
    "        return self.name"
   ]
  },
  {
   "cell_type": "code",
   "execution_count": 96,
   "metadata": {},
   "outputs": [],
   "source": [
    "class network:\n",
    "    def __init__(self, paths, links):\n",
    "        self.paths = paths\n",
    "        self.links = links\n",
    "    \n",
    "    def update(self):\n",
    "        for link in self.links:\n",
    "            link.update_travel_time()\n",
    "        for path in self.paths:\n",
    "            path.update_travel_time()\n",
    "            \n",
    "    def update_av(self, avs):\n",
    "        for path in self.paths:\n",
    "            path.flow = 0\n",
    "        for av in avs:\n",
    "            av.path.flow += av.flow\n",
    "        self.update()\n",
    "        for av in avs:\n",
    "            av.give_reward()"
   ]
  },
  {
   "cell_type": "code",
   "execution_count": 97,
   "metadata": {},
   "outputs": [],
   "source": [
    "ab = link('ab', 1, 1/100)\n",
    "ac = link('ac', 2, 0)\n",
    "bc = link('bc', 0.25, 0)\n",
    "bd = link('bd', 2, 0)\n",
    "cd = link('cd', 1, 1/100)"
   ]
  },
  {
   "cell_type": "code",
   "execution_count": 98,
   "metadata": {},
   "outputs": [],
   "source": [
    "abcd = path('abcd', [ab, bc, cd])\n",
    "abd = path('abd', [ab, bd])\n",
    "acd = path('acd', [ac, cd])"
   ]
  },
  {
   "cell_type": "code",
   "execution_count": 99,
   "metadata": {},
   "outputs": [],
   "source": [
    "braess = network([abd, acd, abcd], [ab, ac, bc, bd, cd])"
   ]
  },
  {
   "cell_type": "code",
   "execution_count": 100,
   "metadata": {},
   "outputs": [],
   "source": [
    "braess.update()"
   ]
  },
  {
   "cell_type": "code",
   "execution_count": 101,
   "metadata": {},
   "outputs": [
    {
     "name": "stdout",
     "output_type": "stream",
     "text": [
      "[3.75, 3.75, 3.75]\n"
     ]
    }
   ],
   "source": [
    "#Nash equilibrium\n",
    "abcd.flow = 50\n",
    "abd.flow = 25\n",
    "acd.flow = 25\n",
    "braess.update()\n",
    "print([path.get_travel_time() for path in braess.paths])"
   ]
  },
  {
   "cell_type": "code",
   "execution_count": 102,
   "metadata": {},
   "outputs": [
    {
     "name": "stdout",
     "output_type": "stream",
     "text": [
      "[3.5, 3.5, 3.25]\n"
     ]
    }
   ],
   "source": [
    "#social optimum\n",
    "abcd.flow = 0\n",
    "abd.flow = 50\n",
    "acd.flow = 50\n",
    "braess.update()\n",
    "print([path.get_travel_time() for path in braess.paths])"
   ]
  },
  {
   "cell_type": "code",
   "execution_count": 103,
   "metadata": {},
   "outputs": [],
   "source": [
    "class autonomous_vehicle:\n",
    "    p = 0.5\n",
    "    def __init__(self, name, flow):\n",
    "        self.name = name\n",
    "        self.path = None\n",
    "        self.reward = 0\n",
    "        self.flow = flow\n",
    "    \n",
    "    def path_choice(self, path):\n",
    "        if self.path == None:\n",
    "            self.path = path\n",
    "        self.path = (path if np.random.rand() < self.p else self.path)\n",
    "    \n",
    "    def give_reward(self):\n",
    "        self.reward = - self.path.get_travel_time()"
   ]
  },
  {
   "cell_type": "code",
   "execution_count": 104,
   "metadata": {},
   "outputs": [],
   "source": [
    "av1 = autonomous_vehicle('1', 25)\n",
    "av2 = autonomous_vehicle('2', 25)\n",
    "av3 = autonomous_vehicle('3', 25)\n",
    "av4 = autonomous_vehicle('4', 25)\n",
    "\n",
    "avs = [av1, av2, av3, av4]"
   ]
  },
  {
   "cell_type": "code",
   "execution_count": 144,
   "metadata": {},
   "outputs": [],
   "source": [
    "best_path = [x for _,x in sorted([(path.get_travel_time(),path) for path in braess.paths],  key=lambda tup: tup[0])][0]\n",
    "for av in avs:\n",
    "    av.path_choice(best_path)\n",
    "\n",
    "braess.update_av(avs)"
   ]
  },
  {
   "cell_type": "code",
   "execution_count": 143,
   "metadata": {},
   "outputs": [
    {
     "name": "stdout",
     "output_type": "stream",
     "text": [
      "[-3.75, -3.75, -3.25, -3.75]\n",
      "[3.75, 3.25, 3.25]\n"
     ]
    }
   ],
   "source": [
    "print([av.reward for av in avs])\n",
    "print([path.get_travel_time() for path in braess.paths])"
   ]
  },
  {
   "cell_type": "code",
   "execution_count": 120,
   "metadata": {},
   "outputs": [
    {
     "ename": "TypeError",
     "evalue": "unorderable types: path() < path()",
     "output_type": "error",
     "traceback": [
      "\u001b[0;31m---------------------------------------------------------------------------\u001b[0m",
      "\u001b[0;31mTypeError\u001b[0m                                 Traceback (most recent call last)",
      "\u001b[0;32m<ipython-input-120-665639bcc52f>\u001b[0m in \u001b[0;36m<module>\u001b[0;34m()\u001b[0m\n\u001b[0;32m----> 1\u001b[0;31m \u001b[0;34m[\u001b[0m\u001b[0mx\u001b[0m \u001b[0;32mfor\u001b[0m \u001b[0m_\u001b[0m\u001b[0;34m,\u001b[0m\u001b[0mx\u001b[0m \u001b[0;32min\u001b[0m \u001b[0msorted\u001b[0m\u001b[0;34m(\u001b[0m\u001b[0;34m[\u001b[0m\u001b[0;34m(\u001b[0m\u001b[0mpath\u001b[0m\u001b[0;34m.\u001b[0m\u001b[0mget_travel_time\u001b[0m\u001b[0;34m(\u001b[0m\u001b[0;34m)\u001b[0m\u001b[0;34m,\u001b[0m\u001b[0mpath\u001b[0m\u001b[0;34m)\u001b[0m \u001b[0;32mfor\u001b[0m \u001b[0mpath\u001b[0m \u001b[0;32min\u001b[0m \u001b[0mbraess\u001b[0m\u001b[0;34m.\u001b[0m\u001b[0mpaths\u001b[0m\u001b[0;34m]\u001b[0m\u001b[0;34m)\u001b[0m\u001b[0;34m]\u001b[0m\u001b[0;34m[\u001b[0m\u001b[0;36m0\u001b[0m\u001b[0;34m]\u001b[0m\u001b[0;34m\u001b[0m\u001b[0m\n\u001b[0m",
      "\u001b[0;31mTypeError\u001b[0m: unorderable types: path() < path()"
     ]
    }
   ],
   "source": [
    "[x for _,x in sorted([(path.get_travel_time(),path) for path in braess.paths])][0]"
   ]
  },
  {
   "cell_type": "code",
   "execution_count": 122,
   "metadata": {},
   "outputs": [
    {
     "ename": "TypeError",
     "evalue": "unorderable types: path() < path()",
     "output_type": "error",
     "traceback": [
      "\u001b[0;31m---------------------------------------------------------------------------\u001b[0m",
      "\u001b[0;31mTypeError\u001b[0m                                 Traceback (most recent call last)",
      "\u001b[0;32m<ipython-input-122-c5cdbd8e749d>\u001b[0m in \u001b[0;36m<module>\u001b[0;34m()\u001b[0m\n\u001b[0;32m----> 1\u001b[0;31m \u001b[0mprint\u001b[0m\u001b[0;34m(\u001b[0m\u001b[0msorted\u001b[0m\u001b[0;34m(\u001b[0m\u001b[0;34m[\u001b[0m\u001b[0;34m(\u001b[0m\u001b[0mpath\u001b[0m\u001b[0;34m.\u001b[0m\u001b[0mget_travel_time\u001b[0m\u001b[0;34m(\u001b[0m\u001b[0;34m)\u001b[0m\u001b[0;34m,\u001b[0m\u001b[0mpath\u001b[0m\u001b[0;34m)\u001b[0m \u001b[0;32mfor\u001b[0m \u001b[0mpath\u001b[0m \u001b[0;32min\u001b[0m \u001b[0mbraess\u001b[0m\u001b[0;34m.\u001b[0m\u001b[0mpaths\u001b[0m\u001b[0;34m]\u001b[0m\u001b[0;34m)\u001b[0m\u001b[0;34m)\u001b[0m\u001b[0;34m\u001b[0m\u001b[0m\n\u001b[0m",
      "\u001b[0;31mTypeError\u001b[0m: unorderable types: path() < path()"
     ]
    }
   ],
   "source": [
    "print(sorted([(path.get_travel_time(),path) for path in braess.paths]))"
   ]
  },
  {
   "cell_type": "code",
   "execution_count": 131,
   "metadata": {},
   "outputs": [
    {
     "name": "stdout",
     "output_type": "stream",
     "text": [
      "[(3.25, <__main__.path object at 0x11193a4e0>), (3.25, <__main__.path object at 0x11193a358>), (3.75, <__main__.path object at 0x11193a320>)]\n"
     ]
    }
   ],
   "source": [
    "print(sorted([(path.get_travel_time(), path) for path in braess.paths],  key=lambda tup: tup[0]))"
   ]
  },
  {
   "cell_type": "code",
   "execution_count": null,
   "metadata": {},
   "outputs": [],
   "source": []
  }
 ],
 "metadata": {
  "kernelspec": {
   "display_name": "Python 3",
   "language": "python",
   "name": "python3"
  },
  "language_info": {
   "codemirror_mode": {
    "name": "ipython",
    "version": 3
   },
   "file_extension": ".py",
   "mimetype": "text/x-python",
   "name": "python",
   "nbconvert_exporter": "python",
   "pygments_lexer": "ipython3",
   "version": "3.5.2"
  },
  "widgets": {
   "state": {},
   "version": "1.1.2"
  }
 },
 "nbformat": 4,
 "nbformat_minor": 2
}
